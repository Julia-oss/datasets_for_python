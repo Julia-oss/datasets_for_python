{
 "cells": [
  {
   "cell_type": "markdown",
   "id": "36ed5e26-718c-4b97-98d6-5ab1826e1aaf",
   "metadata": {},
   "source": [
    "# Основы Python"
   ]
  },
  {
   "cell_type": "markdown",
   "id": "12799ca2-4718-4697-b3de-8153f7143e23",
   "metadata": {},
   "source": [
    "## Введение"
   ]
  },
  {
   "cell_type": "markdown",
   "id": "c8275a54-aae8-4eb5-8912-031f02465fc1",
   "metadata": {},
   "source": [
    "**Выполнение кода в ячейках**"
   ]
  },
  {
   "cell_type": "markdown",
   "id": "01ba77ed-3e9e-4a43-82ad-64d70e387c3d",
   "metadata": {},
   "source": [
    "* `Shift-Enter` - выполнить и перейти к следующей\n",
    "* `Ctrl-Enter` - выполнить без перехода к следующей ячейке\n",
    "* `Alt-Enter` - выполнить и добавить новую ячейку ниже"
   ]
  },
  {
   "cell_type": "markdown",
   "id": "b8542832-7d2d-48a3-ad2f-3dfe189b537a",
   "metadata": {},
   "source": [
    "## Переменные"
   ]
  },
  {
   "cell_type": "markdown",
   "id": "0e273ad6-72e8-4925-b67e-b06350467655",
   "metadata": {},
   "source": [
    "### Создание переменных"
   ]
  },
  {
   "cell_type": "markdown",
   "id": "94604814-8a8f-4f4a-83af-c888f492ef1c",
   "metadata": {},
   "source": [
    "Давайте перейдем к переменным. Переменные в языках программирования немного похожи на ячейки в Excel: в них хранятся некоторые данные. В Excel ячейки имеют строгие названия, например, A4 или B11. В Python переменные могут иметь любые имена, которые вы хотите:"
   ]
  },
  {
   "cell_type": "code",
   "execution_count": null,
   "id": "19530c79-87f1-489e-b0e5-462739c3d6a5",
   "metadata": {},
   "outputs": [],
   "source": [
    "current_age = 25\n",
    "print(current_age)"
   ]
  },
  {
   "cell_type": "markdown",
   "id": "70ac9ed5-82e9-444b-8d7a-be748fafc697",
   "metadata": {},
   "source": [
    "Эта строка кода:\n",
    "\n",
    "* создает новую переменную с именем `current_age`,\n",
    "* присваивает `current_age` значение **25**."
   ]
  },
  {
   "cell_type": "markdown",
   "id": "290f2078-ef4d-497c-b320-5011405d87ae",
   "metadata": {},
   "source": [
    "Знак равенства `(=)` в Python означает \"присваивать значение элемента справа переменной слева\". Это очень важно – вы не можете присваивать значения наоборот."
   ]
  },
  {
   "cell_type": "markdown",
   "id": "5ea60bd5-2002-4eaf-8367-08244fae120f",
   "metadata": {},
   "source": [
    "> ## Задание  \n",
    "> Создайте переменную под названием `temperature`, присвойте ей значение **15**."
   ]
  },
  {
   "cell_type": "code",
   "execution_count": null,
   "id": "9c3c1885-c4c7-4bdd-bca7-42f127520e86",
   "metadata": {},
   "outputs": [],
   "source": [
    "# Показать ответ\n",
    "temperature = 15\n",
    "temperature"
   ]
  },
  {
   "cell_type": "markdown",
   "id": "98ed5b72-426c-4511-a458-139fc8117a58",
   "metadata": {},
   "source": [
    "### Переменные в выражениях"
   ]
  },
  {
   "cell_type": "markdown",
   "id": "e42f58c9-2297-46ee-b953-1993233aa093",
   "metadata": {},
   "source": [
    "Вы также можете использовать переменные в выражениях, подобных этому:\n",
    "```python\n",
    "temp_yesterday = 30\n",
    "temp_today = 35\n",
    "temp_difference = temp_today - temp_yesterday\n",
    "temp_difference\n",
    "```"
   ]
  },
  {
   "cell_type": "code",
   "execution_count": null,
   "id": "1339ea53-d3d3-40c7-b2a3-010ed305f046",
   "metadata": {},
   "outputs": [],
   "source": [
    "temp_yesterday = 30\n",
    "temp_today = 35\n",
    "temp_difference = temp_today - temp_yesterday\n",
    "temp_difference"
   ]
  },
  {
   "cell_type": "markdown",
   "id": "479a3c44-3aed-47c9-a7f2-8c2de6c22ab6",
   "metadata": {},
   "source": [
    "Приведенный выше код выведет значение **5**, которое является разницей между `temp_today` и `temp_yesterday`."
   ]
  },
  {
   "cell_type": "markdown",
   "id": "d4ce8c60-8413-4a6b-b830-1ce298f8e586",
   "metadata": {},
   "source": [
    "> ## Задание\n",
    "> Объявите две переменные:\n",
    "> * `population_a` со значением **10000**,\n",
    "> * `population_b` со значением **5000**.  \n",
    ">\n",
    "> Затем создайте переменную с именем `total_population`, в которую будут добавлены значения `population_a` и `population_b`. В конце, покажите значение `total_population`."
   ]
  },
  {
   "cell_type": "code",
   "execution_count": null,
   "id": "ed5735a9-1c0d-48e1-807c-e1250b2e40fb",
   "metadata": {},
   "outputs": [],
   "source": [
    "# Показать ответ\n",
    "population_a = 10000\n",
    "population_b = 5000\n",
    "total_population = population_a + population_b\n",
    "total_population"
   ]
  },
  {
   "cell_type": "markdown",
   "id": "f7776c08-7701-46b8-9a74-a17502692f6e",
   "metadata": {},
   "source": [
    "### Присвоение новых значений переменным"
   ]
  },
  {
   "cell_type": "markdown",
   "id": "36d2e5cd-d25b-4b82-8116-fb7639ab2e05",
   "metadata": {},
   "source": [
    "Вы можете изменить значения переменных в любой момент. Посмотрите:"
   ]
  },
  {
   "cell_type": "code",
   "execution_count": null,
   "id": "4d27b8cb-9725-4320-b597-2963a2645243",
   "metadata": {},
   "outputs": [],
   "source": [
    "current_age = 25\n",
    "print(current_age)\n",
    "current_age = current_age + 1 \n",
    "print(current_age)"
   ]
  },
  {
   "cell_type": "markdown",
   "id": "0bf02443-fdb2-4508-9c84-58652faf03fb",
   "metadata": {},
   "source": [
    "Значение переменной `current_age` равно 25. Во второй строке оно увеличивается до 26. Если вы хотите изменить значение вашей переменной, просто снова используйте оператор равно `(=)`."
   ]
  },
  {
   "cell_type": "markdown",
   "id": "e582546c-c40c-4ead-b3b1-bf4122f68094",
   "metadata": {},
   "source": [
    "> ## Задание\n",
    "> * Создайте переменную с именем `mood` и присвойте ей строку \"I feel bad today\".\n",
    "> * Далее, присвойте переменной mood новое значение: \"I feel great today\"."
   ]
  },
  {
   "cell_type": "code",
   "execution_count": null,
   "id": "515e17bc-aa94-4772-8bb0-da18d530b5e0",
   "metadata": {},
   "outputs": [],
   "source": [
    "# Показать ответ\n",
    "mood = 'I feel bad today.'\n",
    "mood = 'I feel great today.'\n",
    "mood"
   ]
  },
  {
   "cell_type": "markdown",
   "id": "c9be004f-0ef4-410a-8b76-bb64053a1397",
   "metadata": {},
   "source": [
    "### Неопределенные переменные"
   ]
  },
  {
   "cell_type": "markdown",
   "id": "1f8b20ae-bc57-4ed7-8a46-a8cbc7f50a81",
   "metadata": {},
   "source": [
    "Переменные создаются, когда вы впервые присваиваете им значение. Что произойдет, если вы попробуете выполнить следующее?"
   ]
  },
  {
   "cell_type": "code",
   "execution_count": null,
   "id": "d0085698-6d2e-42a0-bb3c-7ab574deaeb4",
   "metadata": {},
   "outputs": [],
   "source": [
    "secret_number = 5\n",
    "secret_number = random_number + secret_number"
   ]
  },
  {
   "cell_type": "markdown",
   "id": "0f14d3dd-a61f-471a-afe2-a3be00331f28",
   "metadata": {},
   "source": [
    "Если `random_number` не был определен ранее, Python выполнит первую строку, а затем **выдаст сообщение об ошибке**, когда оно достигнет второй строки. Когда вы получите сообщение об ошибке, любой код в ошибочной строке или после нее не будет выполнен. В этом случае вторая строка (и любые другие строки, которые следуют за ней, выполнены не будут)."
   ]
  },
  {
   "cell_type": "markdown",
   "id": "dcddd4e3-618a-4b41-98c1-6c131236480f",
   "metadata": {},
   "source": [
    "> ## Задание\n",
    "> Запустите код шаблона.\n",
    ">\n",
    "> ```python\n",
    "> current_age = 12\n",
    "> unknown_age\n",
    "> current_age = current_age + 5\n",
    "> current_age\n",
    "> ```\n",
    "\n",
    ">  <br/> Мы получим следующий результат:\n",
    ">\n",
    "> Сначала, переменной `current_age` было присвоено значение **12**. Затем появилась следующая ошибка:\n",
    "`NameError: name 'unknown_age' is not defined`\n",
    ">\n",
    "> Обратите внимание, что все, что следует за строкой `unknown_age`, так и не было выполнено из-за ошибки\n",
    ">\n",
    "> current_age = current_age + 5  \n",
    "current_age"
   ]
  },
  {
   "cell_type": "code",
   "execution_count": null,
   "id": "97e0972e-7546-44e1-b24b-828f9a6ba484",
   "metadata": {},
   "outputs": [],
   "source": [
    "# Показать ответ\n",
    "current_age = 12\n",
    "unknown_age = 0\n",
    "print(unknown_age)\n",
    "current_age = current_age + 5\n",
    "print(current_age)"
   ]
  },
  {
   "cell_type": "markdown",
   "id": "50e79ddf-21fb-433d-800a-163e5f6fbc34",
   "metadata": {},
   "source": [
    "```python print('hello')\n",
    "```"
   ]
  },
  {
   "cell_type": "markdown",
   "id": "3a147167-9baf-4bbe-9e1d-4c7b41513dee",
   "metadata": {},
   "source": [
    "```python print('hello')\n",
    "```"
   ]
  },
  {
   "cell_type": "markdown",
   "id": "d498236a-6865-43e6-8a36-8df0c4a58a05",
   "metadata": {},
   "source": [
    "## Функция print"
   ]
  },
  {
   "cell_type": "markdown",
   "id": "31dd4aed-e5b2-4ff1-b62a-10529fdcb23e",
   "metadata": {},
   "source": [
    "### Объединение нескольких строк"
   ]
  },
  {
   "cell_type": "markdown",
   "id": "073d262b-a5a0-494f-b7f0-8eed0acc8e00",
   "metadata": {},
   "source": [
    "Идем дальше! Также вы можете \"добавить\" строки с помощью оператора plus (+)."
   ]
  },
  {
   "cell_type": "markdown",
   "id": "ea45ea8e-4056-4210-82b9-6ef9a6e87286",
   "metadata": {},
   "source": [
    "Мы использовали оператор \"плюс\" для объединения нескольких строк. Это выражение будет отображать текст:  "
   ]
  },
  {
   "cell_type": "markdown",
   "id": "c07fbe2d-34e7-4cdb-80c3-e0c7ed14fe77",
   "metadata": {},
   "source": [
    "`Hello, my name is Kate.`"
   ]
  },
  {
   "cell_type": "markdown",
   "id": "addd0da5-ec76-4fe0-bef4-182e12785281",
   "metadata": {},
   "source": [
    "Значение в переменной `name` использовалось при соединении строк."
   ]
  },
  {
   "cell_type": "code",
   "execution_count": null,
   "id": "131af7fd-f1d9-4d46-930d-79c342355a71",
   "metadata": {},
   "outputs": [],
   "source": [
    "'Kate'"
   ]
  },
  {
   "cell_type": "code",
   "execution_count": null,
   "id": "0a962ffa-b3ba-4880-b954-f9d11fae96d5",
   "metadata": {},
   "outputs": [],
   "source": [
    "5"
   ]
  },
  {
   "cell_type": "code",
   "execution_count": null,
   "id": "84ced316-92da-448d-a6fc-dd24dd27fee2",
   "metadata": {},
   "outputs": [],
   "source": [
    "name = 'Kate'\n",
    "'Hello, my name is ' + name + '.'"
   ]
  },
  {
   "cell_type": "markdown",
   "id": "7a2b76cf-4ef3-4f7b-80d9-081601c6a315",
   "metadata": {},
   "source": [
    "> ## Задание\n",
    "> Создайте переменную с именем `town` и присвойте ей следующее строковое значение: `Toronto`.  \n",
    "> Затем выведите следующее предложение, используя эту переменную:  \n",
    "> `I live in Toronto.`"
   ]
  },
  {
   "cell_type": "code",
   "execution_count": null,
   "id": "5f7d7d85-9faa-4adc-a4fd-8fa74fdae531",
   "metadata": {},
   "outputs": [],
   "source": [
    "# Показать ответ\n",
    "town = 'Toronto'\n",
    "'I live in ' + town + '.'"
   ]
  },
  {
   "cell_type": "markdown",
   "id": "332b4e6d-55ed-45e3-a66c-5562dbab9aa5",
   "metadata": {},
   "source": [
    "### Целые числа, строки и числа с плавающей точкой"
   ]
  },
  {
   "cell_type": "markdown",
   "id": "57ea627c-4bd0-4cf6-a0f8-db3f5b495bbb",
   "metadata": {},
   "source": [
    "Точно так же, как в Excel существуют различные типы ячеек (числа, даты, текст и т.д.), в Python существуют различные типы переменных.  \n",
    "К ним относятся:"
   ]
  },
  {
   "cell_type": "markdown",
   "id": "a54707d9-d917-43af-af2b-4a33e22fd7b2",
   "metadata": {},
   "source": [
    "* Integers `(int)` – целые числа"
   ]
  },
  {
   "cell_type": "code",
   "execution_count": null,
   "id": "84beeaae-4642-44fa-a9a8-d1a08a4b7ad9",
   "metadata": {},
   "outputs": [],
   "source": [
    "current_age = 5"
   ]
  },
  {
   "cell_type": "markdown",
   "id": "185ece82-5601-4e65-8393-707fbdfbe5a8",
   "metadata": {},
   "source": [
    "* float `(float)` – числа с плавающей точкой /числа с десятичной частью, вводимые после точки (.): "
   ]
  },
  {
   "cell_type": "code",
   "execution_count": null,
   "id": "cc6ac4f1-8740-4dad-bb52-1a2f6f6d491d",
   "metadata": {},
   "outputs": [],
   "source": [
    "current_weight = 75.5"
   ]
  },
  {
   "cell_type": "markdown",
   "id": "7f0d9b7b-5fbf-4cdc-872b-c6a0f94c8e7a",
   "metadata": {},
   "source": [
    "* Строки `(string)` – текстовые значения, заключенные в одинарные (' ') или двойные (\"  \") кавычки:"
   ]
  },
  {
   "cell_type": "code",
   "execution_count": null,
   "id": "c1a3b480-c97a-4479-9194-45800c35de7e",
   "metadata": {},
   "outputs": [],
   "source": [
    "standard_greeting = 'My name is Tom!'"
   ]
  },
  {
   "cell_type": "markdown",
   "id": "bcf9f380-32d6-4267-adde-f0f071eb973f",
   "metadata": {},
   "source": [
    "В отличие от многих других языков программирования, Python **автоматически определяет** тип переменной, которую он должен использовать. Например, если вы вводите:"
   ]
  },
  {
   "cell_type": "code",
   "execution_count": null,
   "id": "f70135cd-e226-4364-953f-53c4fc23547a",
   "metadata": {},
   "outputs": [],
   "source": [
    "temperature = 36.6"
   ]
  },
  {
   "cell_type": "markdown",
   "id": "a7f53db2-36b0-4640-8697-d03412b090a8",
   "metadata": {},
   "source": [
    "Python будет знать, что переменная `temperature` является плавающей, потому что число содержит точку (.). Взгляните на другой пример:"
   ]
  },
  {
   "cell_type": "code",
   "execution_count": null,
   "id": "1c0af587-4ebf-4106-8d1b-85d9cc66a9f8",
   "metadata": {},
   "outputs": [],
   "source": [
    "ratio = 250/10\n",
    "ratio"
   ]
  },
  {
   "cell_type": "markdown",
   "id": "3303ecae-f552-4096-aff0-c66c0ad3a30a",
   "metadata": {},
   "source": [
    "В этом случае Python автоматически определит, что результатом деления является число с плавающей точкой."
   ]
  },
  {
   "cell_type": "markdown",
   "id": "ca24c00d-bf37-425c-bd0b-22f1a8972fc1",
   "metadata": {},
   "source": [
    "> ## Задание\n",
    "> В Python есть функция с именем `type()`, которая может указать **тип переменной**, которую вы передаете в круглые скобки. Теперь взгляните на код шаблона и запустите его.\n",
    "> ```\n",
    "age = 5\n",
    "print(type(age))\n",
    "weight = 45.0\n",
    "print(type(weight))\n",
    "name = 'Alex'\n",
    "print(type(name))\n",
    "```"
   ]
  },
  {
   "cell_type": "code",
   "execution_count": null,
   "id": "76d8ae24-36ea-4641-9c18-9213fbe0700a",
   "metadata": {},
   "outputs": [],
   "source": [
    "# Показать ответ\n",
    "age = 5\n",
    "print(type(age))\n",
    "weight = 45.0\n",
    "print(type(weight))\n",
    "name = 'Alex'\n",
    "print(type(name))"
   ]
  },
  {
   "cell_type": "markdown",
   "id": "17528435-ea84-4f6a-ae25-e0c406408e07",
   "metadata": {},
   "source": [
    "Вы можете видеть, что:\n",
    "\n",
    "* age - это целое число (int),\n",
    "* weight - это число с плавающей точкой (float), потому что оно содержит десятичную точку (.),\n",
    "* name - это строка (str), потому что оно заключено в кавычки.\n"
   ]
  },
  {
   "cell_type": "markdown",
   "id": "6cde13df-64aa-4159-a3bb-126f56c8aa02",
   "metadata": {},
   "source": [
    "### Соединение строк и чисел"
   ]
  },
  {
   "cell_type": "markdown",
   "id": "d62f292b-dd90-4604-9ee9-deba9bd0c804",
   "metadata": {},
   "source": [
    "Как вы могли видеть, Python знает разницу между строками (текстом) и числами. Число **5** и текст (обратите внимание на апострофы!) **'5'** - это две разные вещи. Вы также можете использовать знак плюс (+) для объединения строк и чисел, но вам нужно преобразовать числа в строки с помощью функции `str():`"
   ]
  },
  {
   "cell_type": "code",
   "execution_count": null,
   "id": "25424303-1fd9-4872-9876-f0e593729540",
   "metadata": {},
   "outputs": [],
   "source": [
    "current_age = 25\n",
    "'I am ' + str(current_age) + ' years old.'"
   ]
  },
  {
   "cell_type": "markdown",
   "id": "ece6e5f5-adb8-4d02-910f-f98bec26e2c4",
   "metadata": {},
   "source": [
    "Обратите внимание, как мы использовали `str(current_age)` для преобразования целого значения `current_age` в строку. Без этого преобразования код был бы неработоспособен."
   ]
  },
  {
   "cell_type": "markdown",
   "id": "ddf2cf03-e8ca-4826-8958-b850f7c2353d",
   "metadata": {},
   "source": [
    "> ## Задание\n",
    "> Создайте переменную `endurance` со значением **5**. Затем используйте эту переменную для отображения следующего предложения:  \n",
    "> `I can walk for 5 hours!`"
   ]
  },
  {
   "cell_type": "code",
   "execution_count": null,
   "id": "ec3257a8-9823-44ee-afcd-1a61a1e2d2c5",
   "metadata": {},
   "outputs": [],
   "source": [
    "# Показать ответ\n",
    "endurance = 5\n",
    "'I can walk for ' + str(endurance) + ' hours!'"
   ]
  },
  {
   "cell_type": "markdown",
   "id": "2752ac75-c53d-4350-8dbe-be0fa020042c",
   "metadata": {},
   "source": [
    "### Функция print"
   ]
  },
  {
   "cell_type": "markdown",
   "id": "0dcdcf2f-e909-4005-bd0b-97ccff2b82f9",
   "metadata": {},
   "source": [
    "В Python есть еще один способ отображения значения: **функция print()**. Как следует из названия, **функция print()** выводит на экран значение выражения, которое вы передаете в качестве аргумента, например, строку или число:"
   ]
  },
  {
   "cell_type": "code",
   "execution_count": null,
   "id": "ab8ea36c-1347-40b9-ac00-c17d3fcc6f0d",
   "metadata": {},
   "outputs": [],
   "source": [
    "print('I am happy.')"
   ]
  },
  {
   "cell_type": "markdown",
   "id": "5c25ec25-c3a7-4b1d-ab59-156bc2809473",
   "metadata": {},
   "source": [
    "Вы также можете передать переменные в качестве аргументов **функции print()**:"
   ]
  },
  {
   "cell_type": "code",
   "execution_count": null,
   "id": "a0f7a853-7776-4531-a82b-971db2ed9e30",
   "metadata": {},
   "outputs": [],
   "source": [
    "age = 5\n",
    "print(age)"
   ]
  },
  {
   "cell_type": "markdown",
   "id": "c19dbde7-7163-4e65-98d1-b1c60ddc3b84",
   "metadata": {},
   "source": [
    "Вы можете использовать **функцию print()** в любом месте кода, а не только в конце кода."
   ]
  },
  {
   "cell_type": "markdown",
   "id": "b3254028-a52f-46dc-9735-3b210a20f813",
   "metadata": {},
   "source": [
    "\n",
    "> ## **Задание**  \n",
    "> Напечатайте следующий текст:  \n",
    "> `Hello, Python! I am printing with print() function.`"
   ]
  },
  {
   "cell_type": "code",
   "execution_count": null,
   "id": "264b228b-5f57-4180-aec4-5459b5696561",
   "metadata": {},
   "outputs": [],
   "source": [
    "# Показать ответ\n",
    "print(\"Hello, Python! I am printing with print() function.\")"
   ]
  },
  {
   "cell_type": "markdown",
   "id": "648bc807-e75c-405d-b68d-07e2d7867b73",
   "metadata": {},
   "source": [
    "###  Печать нескольких значений"
   ]
  },
  {
   "cell_type": "markdown",
   "id": "f224de1a-7164-486b-8358-ab5c9b4997dc",
   "metadata": {},
   "source": [
    "В качестве альтернативы вы можете использовать функцию print() с запятыми вместо плюсов, чтобы избежать преобразования чисел с помощью функции **str():**"
   ]
  },
  {
   "cell_type": "code",
   "execution_count": null,
   "id": "c7f8f486-5fa5-4885-a271-5d0903b9361f",
   "metadata": {},
   "outputs": [],
   "source": [
    "future_age = 30\n",
    "print('Tomorrow, I will be',future_age,'!')"
   ]
  },
  {
   "cell_type": "code",
   "execution_count": null,
   "id": "2f489cc1-bd02-44e9-b5c1-bfd3c6eebe00",
   "metadata": {},
   "outputs": [],
   "source": [
    "future_age = 30\n",
    "print('Tomorrow, I will be', str(future_age) + '!')"
   ]
  },
  {
   "cell_type": "markdown",
   "id": "9506c856-a814-4875-b1d3-7dc2ca3304b9",
   "metadata": {},
   "source": [
    "Когда вы используете **запятые** в **print()**, Python автоматически добавит **пробел** между каждым элементом. Обычно это очень удобно, но иногда может привести к нежелательным результатам. Например, приведенный выше код покажет: ***Tomorrow, I will be 30 !***"
   ]
  },
  {
   "cell_type": "markdown",
   "id": "8e4208d3-370e-4f43-bd2e-0cc77573ee04",
   "metadata": {},
   "source": [
    "Обратите внимание, что между цифрой 30 и восклицательным знаком стоит пробел, что является неправильным в соответствии с правилами пунктуации. В таких случаях используйте оператор \"плюс\", чтобы получить более точный контроль над выводимыми данными."
   ]
  },
  {
   "cell_type": "markdown",
   "id": "e0211c21-aac6-45b9-a8d1-de616e7acecf",
   "metadata": {},
   "source": [
    "\n",
    "> ## **Задание**  \n",
    "Какой язык вы хотели бы выучить после освоения Python?   \n",
    "Используя переменную next_lang, выведите следующий текст:  \n",
    "> `Next, I will learn R`  \n",
    ">\n",
    "> Прим. Если вы хотите, вы можете изменить название языка, который собираетесь изучать в следующий раз.\n"
   ]
  },
  {
   "cell_type": "code",
   "execution_count": null,
   "id": "b3c13736-c026-4afb-ba57-e1cd8f5353d9",
   "metadata": {},
   "outputs": [],
   "source": [
    "# Показать ответ\n",
    "next_lang = 'R'\n",
    "text = \"Next, I will learn\"\n",
    "print(text, next_lang)"
   ]
  },
  {
   "cell_type": "markdown",
   "id": "e18f62bd-2625-4a5a-a2d1-a97eb13c8191",
   "metadata": {},
   "source": [
    "```python print('hello')\n",
    "```"
   ]
  },
  {
   "cell_type": "markdown",
   "id": "4ee83d7d-3d88-4c50-80dc-921ff3fcccc8",
   "metadata": {},
   "source": [
    "```python print('hello')\n",
    "```"
   ]
  },
  {
   "cell_type": "markdown",
   "id": "72a5fdc2-40ad-43bd-a22b-9382b1d60463",
   "metadata": {},
   "source": [
    "```python print('hello')\n",
    "```"
   ]
  },
  {
   "cell_type": "markdown",
   "id": "f24a7cbe-7bc7-4ec9-8b97-af5a8d081d63",
   "metadata": {},
   "source": [
    "## Основы списка (list)"
   ]
  },
  {
   "cell_type": "markdown",
   "id": "a0fb9509-967f-4d43-be80-0fbef6b58e4d",
   "metadata": {},
   "source": [
    "### Комментарии на Python"
   ]
  },
  {
   "cell_type": "markdown",
   "id": "190b2f6d-52f3-42e9-9a13-3b6bdfcb8379",
   "metadata": {},
   "source": [
    "Прежде чем мы начнем работать со списками, мы введем комментарии. **Комментарии** - это фрагменты кода, которые игнорируются Python. Вы можете использовать их для описания того, что делает ваш код, или для быстрого комментирования некоторых строк кода при проведении экспериментов."
   ]
  },
  {
   "cell_type": "code",
   "execution_count": null,
   "id": "f0223b6f-8fc8-4082-bb4e-013b6dccf01e",
   "metadata": {},
   "outputs": [],
   "source": [
    "# запишите vin-код автомобиля, который мы ищем\n",
    "car_vin = 'GH665SD'"
   ]
  },
  {
   "cell_type": "markdown",
   "id": "a9da473b-e99a-454e-beb0-0b2770641f8f",
   "metadata": {},
   "source": [
    "Комментарии вводятся со знаком **хэша** `(#)`. Они могут занимать целую строку или начинаться с середины строки. Все, что указано справа от знака хэша, игнорируется Python."
   ]
  },
  {
   "cell_type": "markdown",
   "id": "e5450ad5-a8d2-48d0-85ed-4e16b5cfb60d",
   "metadata": {},
   "source": [
    "> ## Задание\n",
    "Посмотрите на код шаблона. Закомментируйте следующую строку `turtle_lifespan = turtle_lifespan + 40`  \n",
    "и посмотрите, что будет показано:"
   ]
  },
  {
   "cell_type": "code",
   "execution_count": 32,
   "id": "799f265d-0134-4adb-95a4-347867fa4e6a",
   "metadata": {},
   "outputs": [
    {
     "data": {
      "text/plain": [
       "60"
      ]
     },
     "execution_count": 32,
     "metadata": {},
     "output_type": "execute_result"
    }
   ],
   "source": [
    "# определить срок службы\n",
    "turtle_lifespan = 20\n",
    "# увеличьте срок службы\n",
    "# turtle_lifespan = turtle_lifespan + 40"
   ]
  },
  {
   "cell_type": "code",
   "execution_count": 34,
   "id": "83200c03-3776-4d41-bf34-195b9073b965",
   "metadata": {},
   "outputs": [
    {
     "data": {
      "text/plain": [
       "20"
      ]
     },
     "execution_count": 34,
     "metadata": {},
     "output_type": "execute_result"
    }
   ],
   "source": [
    "# Показать ответ\n",
    "# определить срок службы\n",
    "turtle_lifespan = 20\n",
    "# увеличьте срок службы\n",
    "# turtle_lifespan = turtle_lifespan + 40\n",
    "turtle_lifespan"
   ]
  },
  {
   "cell_type": "markdown",
   "id": "da40c464-7bbd-453e-bf4b-b16e70d08357",
   "metadata": {},
   "source": [
    "### Определение списков"
   ]
  },
  {
   "cell_type": "markdown",
   "id": "8d5f2e26-2d2d-4d03-bea0-9ed000b4d604",
   "metadata": {},
   "source": [
    "Мы уже знаем некоторые базовые типы данных — целые числа, числа с плавающей точкой и строки. Теперь мы хотим провести анализ нескольких значений (например, 10 самых густонаселенных городов Канады). Вы могли бы начать с чего-то вроде этого:"
   ]
  },
  {
   "cell_type": "markdown",
   "id": "039bf741-1e97-4968-8d7e-3008005da5c5",
   "metadata": {},
   "source": [
    "`city_1 = 'Toronto'`  \n",
    "`city_2 = 'Montreal'`  \n",
    "`city_3 = 'Vancouver'`  \n",
    "`..."
   ]
  },
  {
   "cell_type": "markdown",
   "id": "5f9606e8-a8f9-4432-8600-1ca063de8acb",
   "metadata": {},
   "source": [
    "Но это требует много ввода. Кроме того, сложно обрабатывать группы данных, хранящихся таким образом. Python предлагает несколько способов хранения нескольких значений в одной переменной. Наиболее универсальный из них называется списком."
   ]
  },
  {
   "cell_type": "code",
   "execution_count": null,
   "id": "7972541e-f189-406a-afd1-3752aa44d662",
   "metadata": {},
   "outputs": [],
   "source": [
    "canadian_cities = [\n",
    "  'Toronto', 'Montreal', 'Calgary',\n",
    "  'Ottawa', 'Edmonton', 'Mississauga',\n",
    "  'Winnipeg', 'Vancouver', 'Brampton', 'Familton' ]"
   ]
  },
  {
   "cell_type": "markdown",
   "id": "08ed21d7-fb07-4fc6-a6eb-881a0c6ac565",
   "metadata": {},
   "source": [
    "Список создается путем заключения его элементов в **квадратные скобки**, разделенные **запятыми**. Поскольку наши элементы представляют собой строки, нам также нужно было заключить их в одинарные `('')` или двойные `(\"\")` кавычки."
   ]
  },
  {
   "cell_type": "markdown",
   "id": "19669293-34ff-4424-a70f-12a015ebc01e",
   "metadata": {},
   "source": [
    "> ## Задание\n",
    "> Определите переменную списка с именем daily_sales со следующими **7 значениями**, которые представляют **ежедневные продажи** в российских рублях в магазине вашего клиента: 2345, 3754, 2583, 4583, 7823, 10234, 14384."
   ]
  },
  {
   "cell_type": "code",
   "execution_count": 35,
   "id": "52919433-eccb-4b89-a863-9be7a1c28a67",
   "metadata": {},
   "outputs": [
    {
     "data": {
      "text/plain": [
       "[2345, 3754, 2583, 4583, 7823, 10234, 14384]"
      ]
     },
     "execution_count": 35,
     "metadata": {},
     "output_type": "execute_result"
    }
   ],
   "source": [
    "# Показать ответ\n",
    "daily_sales = [2345,3754,2583,4583,7823,10234,14384]\n",
    "daily_sales"
   ]
  },
  {
   "cell_type": "markdown",
   "id": "ede39316-6ba2-4af3-a5a4-098b8448fc75",
   "metadata": {},
   "source": [
    "### Доступ к элементам списка"
   ]
  },
  {
   "cell_type": "markdown",
   "id": "9535acc9-0079-48e3-95fc-6ee87219f3d7",
   "metadata": {},
   "source": [
    "Прекрасно! Едем дальше! Элементы в списке индексируются (нумеруются), и вы можете получить определенный элемент следующим образом:"
   ]
  },
  {
   "cell_type": "code",
   "execution_count": 38,
   "id": "c6ed7990-24a7-4b52-929b-11a7f2f3710b",
   "metadata": {},
   "outputs": [
    {
     "data": {
      "text/plain": [
       "'Ottawa'"
      ]
     },
     "execution_count": 38,
     "metadata": {},
     "output_type": "execute_result"
    }
   ],
   "source": [
    "# определите список\n",
    "canadian_cities = [\n",
    "  'Toronto', 'Montreal', 'Calgary', \n",
    "  'Ottawa', 'Edmonton', 'Mississauga', \n",
    "  'Winnipeg', 'Vancouver', 'Brampton', 'Familton']\n",
    "\n",
    "# добраться до Оттавы\n",
    "canadian_cities[3]"
   ]
  },
  {
   "cell_type": "markdown",
   "id": "21dba928-8fa0-4c4b-ba91-e6037266d468",
   "metadata": {},
   "source": [
    "Мы указываем название списка `(canadian_cities)`, за которым следует пара квадратных скобок. Внутри мы помещаем индекс (номер) конкретного элемента. Таким образом, мы можем получить доступ к любому элементу в списке."
   ]
  },
  {
   "cell_type": "markdown",
   "id": "94968888-164c-4788-940c-2f35df30a10c",
   "metadata": {},
   "source": [
    "Индексы списка начинаются с **0**, а не с **1**. Другими словами, `canadian_cities[0]` – это **первый элемент**, а `canadian_cities[3]` - **четвертый**. Это распространенная ошибка среди новичков, поэтому будьте осторожны!"
   ]
  },
  {
   "cell_type": "code",
   "execution_count": 40,
   "id": "d1664787-082a-442c-8dce-287009159088",
   "metadata": {},
   "outputs": [
    {
     "name": "stdout",
     "output_type": "stream",
     "text": [
      "0 Toronto\n",
      "1 Montreal\n",
      "2 Calgary\n",
      "3 Ottawa\n",
      "4 Edmonton\n",
      "5 Mississauga\n",
      "6 Winnipeg\n",
      "7 Vancouver\n",
      "8 Brampton\n",
      "9 Familton\n"
     ]
    }
   ],
   "source": [
    "# Отобразить индекс элемента списка в Python? (Функция enumerate())\n",
    "# Функция enumerate() в Python позволяет итерировать по последовательности, отслеживая индекс или позицию каждого элемента\n",
    "a = [0, 2, 3, 4, 6]\n",
    "for i, b in enumerate(canadian_cities, 0):\n",
    "    print(str(i), str(b))"
   ]
  },
  {
   "cell_type": "markdown",
   "id": "43972e45-300e-41e9-9747-85a9bb0162ff",
   "metadata": {},
   "source": [
    "> ## Задание\n",
    "> Каковы были продажи на **третий день** в вашем ранее заданном списке? Откройте нужный элемент списка."
   ]
  },
  {
   "cell_type": "code",
   "execution_count": 41,
   "id": "9da55fb0-0aa6-40a7-be68-71e8851ac292",
   "metadata": {},
   "outputs": [
    {
     "data": {
      "text/plain": [
       "2583"
      ]
     },
     "execution_count": 41,
     "metadata": {},
     "output_type": "execute_result"
    }
   ],
   "source": [
    "# Показать ответ\n",
    "daily_sales = [2345,3754,2583,4583,7823,10234,14384]\n",
    "daily_sales[2]"
   ]
  },
  {
   "cell_type": "markdown",
   "id": "b906f64e-808c-4ef0-9b57-8addfd9fe732",
   "metadata": {},
   "source": [
    "### Доступ к нескольким элементам списка – часть 1"
   ]
  },
  {
   "cell_type": "markdown",
   "id": "41145cbc-8ad0-463f-8ebc-66c98d9156b2",
   "metadata": {},
   "source": [
    "Мы также можем использовать квадратные скобки, чтобы получить несколько элементов."
   ]
  },
  {
   "cell_type": "code",
   "execution_count": 42,
   "id": "aecdcf28-055d-4029-a75e-72f2d003d708",
   "metadata": {},
   "outputs": [
    {
     "data": {
      "text/plain": [
       "['Toronto', 'Montreal', 'Calgary']"
      ]
     },
     "execution_count": 42,
     "metadata": {},
     "output_type": "execute_result"
    }
   ],
   "source": [
    "# получить top 3 городов\n",
    "canadian_cities[0:3]"
   ]
  },
  {
   "cell_type": "markdown",
   "id": "507b85a3-7f55-4ac4-8557-cecacd3bbd39",
   "metadata": {},
   "source": [
    "Мы использовали `canadian_cities[0:3]`, чтобы получить все элементы списка с индексами от **0 (включительно) до 3 (исключительно)**.  \n",
    "Это означает, что мы получили   \n",
    "`canadian_cities[0]`,   \n",
    "`canadian_cities[1]` и   \n",
    "`canadian_cities[2]`   \n",
    "(но не `canadian_cities[3]`). В результате получился новый список."
   ]
  },
  {
   "cell_type": "markdown",
   "id": "1b66bcc5-8639-4421-8d67-dae06230d165",
   "metadata": {},
   "source": [
    "> ## Задание\n",
    "> Какие продажи были в выходные дни (т.е. в дни **6** и **7**) в вашем ранее определенном списке? Откройте **два** элемента списка."
   ]
  },
  {
   "cell_type": "code",
   "execution_count": 43,
   "id": "9697b16c-4135-412c-8ae0-03f396e57502",
   "metadata": {},
   "outputs": [
    {
     "data": {
      "text/plain": [
       "[10234, 14384]"
      ]
     },
     "execution_count": 43,
     "metadata": {},
     "output_type": "execute_result"
    }
   ],
   "source": [
    "daily_sales = [2345, 3754, 2583, 4583, 7823, 10234, 14384]\n",
    "daily_sales[5:7]"
   ]
  },
  {
   "cell_type": "markdown",
   "id": "8b1df1f4-d28d-4a3e-bd52-e336872cc17a",
   "metadata": {},
   "source": [
    "### Доступ к нескольким элементам списка – часть 2"
   ]
  },
  {
   "cell_type": "markdown",
   "id": "e5dbffe6-72cc-4e18-8032-fac529d8a90c",
   "metadata": {},
   "source": [
    "Когда мы писали `canadian_cities[0:3]`, мы явно указывали первый и последний нужные нам элементы. Если одно из этих значений обозначает первый или последний элемент в списке, мы можем **пропустить его**:"
   ]
  },
  {
   "cell_type": "code",
   "execution_count": 45,
   "id": "acb6e2ee-b3b5-4741-b18f-4939ec7c6aa6",
   "metadata": {},
   "outputs": [
    {
     "name": "stdout",
     "output_type": "stream",
     "text": [
      "['Toronto', 'Montreal', 'Calgary']\n",
      "['Ottawa', 'Edmonton', 'Mississauga', 'Winnipeg', 'Vancouver', 'Brampton', 'Familton']\n",
      "['Toronto', 'Montreal', 'Calgary', 'Ottawa', 'Edmonton', 'Mississauga', 'Winnipeg', 'Vancouver', 'Brampton', 'Familton']\n"
     ]
    }
   ],
   "source": [
    "# все элементы с самого начала до canadian_cities[2]\n",
    "print(canadian_cities[:3])\n",
    "\n",
    "# все элементы от canadian_cities[3] до самого конца\n",
    "print(canadian_cities[3:])\n",
    "print(canadian_cities)"
   ]
  },
  {
   "cell_type": "markdown",
   "id": "bd9cb083-12f8-4316-a596-1403b8997203",
   "metadata": {},
   "source": [
    "> ## Задание\n",
    "> Показывать все ежедневные продажи, за исключением первых двух дней."
   ]
  },
  {
   "cell_type": "code",
   "execution_count": 46,
   "id": "a11d864b-b81d-42bd-ab84-4f201905a2c6",
   "metadata": {},
   "outputs": [
    {
     "data": {
      "text/plain": [
       "[2583, 4583, 7823, 10234, 14384]"
      ]
     },
     "execution_count": 46,
     "metadata": {},
     "output_type": "execute_result"
    }
   ],
   "source": [
    "# Показать ответ\n",
    "daily_sales = [2345,3754,2583,4583,7823,10234,14384]\n",
    "daily_sales[2:]"
   ]
  },
  {
   "cell_type": "markdown",
   "id": "2cc190c1-1812-44ac-b487-a3f3b5d14187",
   "metadata": {},
   "source": [
    "### Присвоение новых значений"
   ]
  },
  {
   "cell_type": "markdown",
   "id": "7c45378f-ab0b-4a58-890c-e960059e3ea1",
   "metadata": {},
   "source": [
    "Используя квадратные скобки, мы также можем присвоить новые значения определенным элементам."
   ]
  },
  {
   "cell_type": "code",
   "execution_count": 48,
   "id": "6dcb8034-fbc6-4f44-965a-952bc6c5b630",
   "metadata": {},
   "outputs": [
    {
     "data": {
      "text/plain": [
       "['Toronto',\n",
       " 'Montreal',\n",
       " 'Calgary',\n",
       " 'Ottawa',\n",
       " 'Edmonton',\n",
       " 'Mississauga',\n",
       " 'Winnipeg',\n",
       " 'Vancouver',\n",
       " 'Brampton',\n",
       " 'Quebec']"
      ]
     },
     "execution_count": 48,
     "metadata": {},
     "output_type": "execute_result"
    }
   ],
   "source": [
    "# определяем список\n",
    "canadian_cities = [\n",
    "    'Toronto', 'Montreal', 'Calgary', 'Ottawa',\n",
    "    'Edmonton', 'Mississauga', 'Winnipeg', 'Vancouver', \n",
    "    'Brampton', 'Familton']\n",
    "\n",
    "# демографические изменения...\n",
    "canadian_cities[9] = 'Quebec'\n",
    "canadian_cities"
   ]
  },
  {
   "cell_type": "markdown",
   "id": "58cb723a-f2e5-4f43-b5c1-cb2a50c49331",
   "metadata": {},
   "source": [
    "Мы выяснили, что в Quebec теперь живет больше людей, чем в Familton, поэтому мы меняем **десятый** элемент (помните, его индекс равен **9**) на `\"Quebec\"`. Familton выходит из игры!"
   ]
  },
  {
   "cell_type": "markdown",
   "id": "8eec863d-b013-475c-8e23-8481244fddaa",
   "metadata": {},
   "source": [
    "> ## Задание\n",
    "> Исправьте ошибку в ваших данных. Количество продаж за третий день должно составить **3023**."
   ]
  },
  {
   "cell_type": "code",
   "execution_count": 49,
   "id": "3b110059-ee26-4c96-9406-6f3e6a3eb6b8",
   "metadata": {},
   "outputs": [
    {
     "data": {
      "text/plain": [
       "[2345, 3754, 3023, 4583, 7823, 10234, 14384]"
      ]
     },
     "execution_count": 49,
     "metadata": {},
     "output_type": "execute_result"
    }
   ],
   "source": [
    "# Показать ответ\n",
    "daily_sales = [2345, 3754, 2583, 4583, 7823, 10234, 14384]\n",
    "daily_sales[2] = 3023\n",
    "daily_sales"
   ]
  },
  {
   "cell_type": "markdown",
   "id": "bf1b31ad-918e-4723-902b-ff0d8102c308",
   "metadata": {},
   "source": [
    "### Проверка размер списка"
   ]
  },
  {
   "cell_type": "markdown",
   "id": "b8d5ab3f-f64c-49aa-8db0-5eba9a86fb77",
   "metadata": {},
   "source": [
    "Чтобы проверить размер вашего списка (т.е. количество элементов в вашем списке), используйте функцию `len(имя_списки)`."
   ]
  },
  {
   "cell_type": "code",
   "execution_count": 50,
   "id": "c331dc64-2f73-4b10-83ca-cc953439cd2c",
   "metadata": {},
   "outputs": [
    {
     "data": {
      "text/plain": [
       "10"
      ]
     },
     "execution_count": 50,
     "metadata": {},
     "output_type": "execute_result"
    }
   ],
   "source": [
    "# определяем список\n",
    "canadian_cities = [\n",
    "    'Toronto', 'Montreal', 'Calgary', 'Ottawa',\n",
    "    'Edmonton', 'Mississauga', 'Winnipeg', 'Vancouver', \n",
    "    'Brampton', 'Familton']\n",
    "\n",
    "# должно быть равно 10\n",
    "len(canadian_cities)"
   ]
  },
  {
   "cell_type": "markdown",
   "id": "dae74b3f-ffb6-4a1a-9ebb-a9b8d43ece52",
   "metadata": {},
   "source": [
    "## Резюме"
   ]
  },
  {
   "cell_type": "markdown",
   "id": "e2624a46-65ac-418d-9967-533f3c04b45f",
   "metadata": {},
   "source": [
    "\n",
    ">Отличная работа!. Пора подводить итоги! Вот некоторые вещи, которые мы узнали:\n",
    "\n",
    "> * функция `print()` выводит все, что указано в круглых скобках\n",
    "> * Переменные объявляются и им присваиваются значения с помощью оператора равенства `(=)`.\n",
    "> * Вот несколько основных типов переменных: целые числа (int), числа с плавающей точкой (float) и строки (str). Строки заключаются в одинарные `(' ')` или двойные `(\" \")` кавычки.\n",
    "> * Вы можете преобразовать переменные разных типов в строки, используя `str()`.\n",
    "> * Комментарии начинаются с `#`.\n",
    "> * Для определения списков требуется, чтобы элементы, разделенные запятыми, были заключены в квадратные скобки:\n",
    ">   `invited_guests = ['Mark', 'Hannah', 'Walter']`\n",
    "> * Доступ к элементам списка заключен в квадратные скобки. Индексация начинается с 0.  \n",
    ">  `invited_guests[0] #первый элемент`   \n",
    "`invited_guests[0:2] #первый и второй элемент`  \n",
    "`invited_guests[1:] #все элементы кроме первого`\n",
    "> * Чтобы получить количество элементов в списке, используйте функцию `len()`:  \n",
    ">   `len(list_name)`\n",
    ">\n",
    "> Итак, пришло время для короткого теста!"
   ]
  },
  {
   "cell_type": "markdown",
   "id": "fa45a961-6bd7-4f2a-8ce0-14c2df7ea9b4",
   "metadata": {},
   "source": [
    "### Задание #1"
   ]
  },
  {
   "cell_type": "markdown",
   "id": "8d87a583-52dd-47e0-87ac-0020ddaadd82",
   "metadata": {},
   "source": [
    "Давайте начнем с чего-нибудь простого!\n",
    "\n",
    "Выведите на экран следующее предложение:  \n",
    "`'I feel good today.'`"
   ]
  },
  {
   "cell_type": "code",
   "execution_count": null,
   "id": "d62e3620-6ce4-4a54-b724-dab972bb5dc0",
   "metadata": {
    "jupyter": {
     "source_hidden": true
    }
   },
   "outputs": [],
   "source": [
    "# Показать ответ\n",
    "print('I feel good today.')"
   ]
  },
  {
   "cell_type": "markdown",
   "id": "b5513641-b32d-4e5c-92d7-0abd2a510eec",
   "metadata": {},
   "source": [
    "### Задание #2"
   ]
  },
  {
   "cell_type": "markdown",
   "id": "55114643-02b0-40bc-965f-4afcac4a6ae6",
   "metadata": {},
   "source": [
    "Отлично, а теперь как насчет математики?\n",
    "\n",
    "Peter хотел продать несколько старых книг, которые он нашел в своем шкафу. Он нашел 67 старых книг, из которых 43 были слишком повреждены, чтобы их можно было продать. Peter удалось выручить по 500 рублей за каждую из оставшихся книг.\n",
    "\n",
    "Определите окончательную сумму, которую собрал Peter, переменной с именем `score` и выведите следующее предложение:    \n",
    "`I raised as much as {score}`"
   ]
  },
  {
   "cell_type": "code",
   "execution_count": null,
   "id": "80547325-9f42-4fcd-aec5-45610b279d66",
   "metadata": {
    "jupyter": {
     "source_hidden": true
    }
   },
   "outputs": [],
   "source": [
    "# Показать ответ\n",
    "score = (67-43)*500\n",
    "text = 'I raised as much as'\n",
    "print(text, score)"
   ]
  },
  {
   "cell_type": "markdown",
   "id": "c8e1423d-920c-43df-bd93-2ccb4a8e3892",
   "metadata": {},
   "source": [
    "### Задание #3"
   ]
  },
  {
   "cell_type": "markdown",
   "id": "34b240bb-973c-4cf0-b42a-0360aae17fb1",
   "metadata": {},
   "source": [
    "Отлично! Давайте закончим небольшим упражнением со списками!\n",
    "\n",
    "Учитывая рейтинг крупнейших городов Германии, выведите на экран 5 лучших городов.  \n",
    "`biggest_german_cities = ['Berlin','Hamburg','Munich','Cologne','Frankfurt','Essen','Stuttgart','Dortmund']`"
   ]
  },
  {
   "cell_type": "code",
   "execution_count": null,
   "id": "56e58107-2cab-43b6-b11b-60e8a6f73e41",
   "metadata": {
    "jupyter": {
     "source_hidden": true
    }
   },
   "outputs": [],
   "source": [
    "# Показать ответ\n",
    "biggest_german_cities = ['Berlin','Hamburg','Munich','Cologne','Frankfurt','Essen','Stuttgart','Dortmund']\n",
    "result = biggest_german_cities[:5]\n",
    "result"
   ]
  },
  {
   "cell_type": "markdown",
   "id": "74342266-35d6-44dd-b22c-3108708d7996",
   "metadata": {},
   "source": [
    "### Поздравление!"
   ]
  },
  {
   "cell_type": "markdown",
   "id": "92693d04-ac33-43fe-820e-d6a15aebe50a",
   "metadata": {},
   "source": [
    "Поздравляю! Вам удалось решить все наши проблемы. Пришло время сделать перерыв перед следующей частью, в которой мы начнем изучать pandas, платформу для анализа данных на Python.\n",
    "\n",
    "Задание!  \n",
    "`Для продолжения обучения, пройдите регистрацию по ссылке:` ссылка находится в описании к уроку"
   ]
  },
  {
   "cell_type": "code",
   "execution_count": null,
   "id": "717bf6ac-f367-4924-b261-8bf3edc6389e",
   "metadata": {},
   "outputs": [],
   "source": []
  },
  {
   "cell_type": "code",
   "execution_count": null,
   "id": "76d8254c-e6d7-4aac-b21b-b4514adecf51",
   "metadata": {},
   "outputs": [],
   "source": []
  }
 ],
 "metadata": {
  "kernelspec": {
   "display_name": "Python 3 (ipykernel)",
   "language": "python",
   "name": "python3"
  },
  "language_info": {
   "codemirror_mode": {
    "name": "ipython",
    "version": 3
   },
   "file_extension": ".py",
   "mimetype": "text/x-python",
   "name": "python",
   "nbconvert_exporter": "python",
   "pygments_lexer": "ipython3",
   "version": "3.12.7"
  }
 },
 "nbformat": 4,
 "nbformat_minor": 5
}
